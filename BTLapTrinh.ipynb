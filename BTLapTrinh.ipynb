{
  "nbformat": 4,
  "nbformat_minor": 0,
  "metadata": {
    "colab": {
      "name": "BTLapTrinh.ipynb",
      "provenance": [],
      "authorship_tag": "ABX9TyPYAXHAXw6PjWf9AKr/QAXV",
      "include_colab_link": true
    },
    "kernelspec": {
      "name": "python3",
      "display_name": "Python 3"
    }
  },
  "cells": [
    {
      "cell_type": "markdown",
      "metadata": {
        "id": "view-in-github",
        "colab_type": "text"
      },
      "source": [
        "<a href=\"https://colab.research.google.com/github/tuananh200599/Python-Project/blob/main/BTLapTrinh.ipynb\" target=\"_parent\"><img src=\"https://colab.research.google.com/assets/colab-badge.svg\" alt=\"Open In Colab\"/></a>"
      ]
    },
    {
      "cell_type": "markdown",
      "metadata": {
        "id": "CvXBnUEaxto3"
      },
      "source": [
        "BÀI TẬP LẬP TRÌNH CHƯƠNG 2 <br>\r\n",
        "Bài 1: Lập trình nhập vào từ bàn phím 2 số nguyên và tính:<br>\r\n",
        "1. Tổng của 2 số<br>\r\n",
        "2. Tích của 2 số<br>\r\n",
        "3. Hiệu của 2 số<br>\r\n",
        "4. Phép chia lấy phần dư của 2 số<br>\r\n",
        "5. Phép chia lấy phần nguyên của 2 số<br>\r\n",
        "Kết quả xuất ra màn hình"
      ]
    },
    {
      "cell_type": "code",
      "metadata": {
        "colab": {
          "base_uri": "https://localhost:8080/"
        },
        "id": "am0Rb97Oxpjb",
        "outputId": "ac57b1b0-dcf5-4694-d3fb-ab3f056b8e68"
      },
      "source": [
        "a =float(input('a = '))\r\n",
        "b= float(input('b = '))\r\n",
        "c=a+b\r\n",
        "print('a+b = ',c)"
      ],
      "execution_count": 1,
      "outputs": [
        {
          "output_type": "stream",
          "text": [
            "a = 4\n",
            "b = 6\n",
            "a+b =  10.0\n"
          ],
          "name": "stdout"
        }
      ]
    },
    {
      "cell_type": "markdown",
      "metadata": {
        "id": "JS5nCApFyLJE"
      },
      "source": [
        "Bài 2: Lập trình nhập vào từ bàn phím 2 số thực và tính:\r\n",
        "\r\n",
        "1. Tổng của 2 số\r\n",
        "2. Tích của 2 số\r\n",
        "3. Hiệu của 2 số\r\n",
        "4. Thương của 2 số <br>\r\n",
        "Kết quả xuất ra màn hình"
      ]
    },
    {
      "cell_type": "code",
      "metadata": {
        "colab": {
          "base_uri": "https://localhost:8080/"
        },
        "id": "qANVRelUyf-b",
        "outputId": "85344d53-d53c-4f26-df2e-6907926e42f9"
      },
      "source": [
        "a =float(input('a = '))\r\n",
        "b= float(input('b = '))\r\n",
        "tong = a + b\r\n",
        "tich = a * b\r\n",
        "print('tong la : ',a,'+',b,'=',tong)\r\n",
        "print('tich la ',a,'*',b,'=',tich)\r\n",
        "if a>b:\r\n",
        "  hieu = a - b\r\n",
        "  print('hieu la : ',a,'-',b,'=',hieu)\r\n",
        "  thuong = a / b\r\n",
        "  print('thuong la : ',a,'/',b,'=',thuong)\r\n",
        "else:\r\n",
        "  hieu = b- a\r\n",
        "  print('hieu la : ',b,'-',a,'=',hieu)\r\n",
        "  thuong = b / a\r\n",
        "  print('thuong la : ',b,'/',a,'=',thuong)"
      ],
      "execution_count": 4,
      "outputs": [
        {
          "output_type": "stream",
          "text": [
            "a = 9\n",
            "b = 3\n",
            "tong la :  9.0 + 3.0 = 12.0\n",
            "tich la  9.0 * 3.0 = 27.0\n",
            "hieu la :  9.0 - 3.0 = 6.0\n",
            "thuong la :  9.0 / 3.0 = 3.0\n"
          ],
          "name": "stdout"
        }
      ]
    },
    {
      "cell_type": "markdown",
      "metadata": {
        "id": "PgFPECrMy3ZT"
      },
      "source": [
        "Bài 3: (Sử dụng các hàm toán học) Nhập một số từ bàn phím và tính:\r\n",
        "\r\n",
        "1. Trị tuyệt đối\r\n",
        "2. Lấy phần nguyên của số\r\n",
        "3. Chuyển đổi thành số thực\r\n",
        "4. (nhập thêm 1 số từ bàn phím) và tính lũy thừa $ x^y $\r\n",
        "5. Tính căn bậc hai<br>\r\n",
        "Kết quả xuất ra màn hình"
      ]
    },
    {
      "cell_type": "code",
      "metadata": {
        "colab": {
          "base_uri": "https://localhost:8080/"
        },
        "id": "pEoevabWzLck",
        "outputId": "4bc7501e-283f-4f51-ba35-c9392d992f3f"
      },
      "source": [
        "import math\r\n",
        "x = float(input('Nhap x :'))\r\n",
        "print('1.Tri tuyet doi cua x :', x ,'=', abs(x))\r\n",
        "print('2.Phan nguyen cua x :', x ,'=', int(x))\r\n",
        "print('3.So thuc cua x :', x ,'=', float(x))\r\n",
        "y = int(input('Nhap y :'))\r\n",
        "print('4.Luy thua cua x^y :', x ,'^',y,'=', pow(x,y))\r\n",
        "print('5.Can bac 2 cua x :', x ,'=', math.sqrt(x))\r\n"
      ],
      "execution_count": 7,
      "outputs": [
        {
          "output_type": "stream",
          "text": [
            "Nhap x :9\n",
            "1.Tri tuyet doi cua x : 9.0 = 9.0\n",
            "2.Phan nguyen cua x : 9.0 = 9\n",
            "3.So thuc cua x : 9.0 = 9.0\n",
            "Nhap y :2\n",
            "4.Luy thua cua x^y : 9.0 ^ 2 = 81.0\n",
            "5.Can bac 2 cua x : 9.0 = 3.0\n"
          ],
          "name": "stdout"
        }
      ]
    },
    {
      "cell_type": "markdown",
      "metadata": {
        "id": "yURQrao6zlma"
      },
      "source": [
        "Bài 4: Nhập 2 số từ bàn phím và thực hiện các phép so sánh sau giữa 2 số:\r\n",
        "\r\n",
        "1. $ \\geq $\r\n",
        "2. $ \\leq $\r\n",
        "3. $ > $\r\n",
        "4. $ < $\r\n",
        "5. $ \\neq $ <br>\r\n",
        "Kết quả xuất ra màn hình"
      ]
    },
    {
      "cell_type": "code",
      "metadata": {
        "colab": {
          "base_uri": "https://localhost:8080/"
        },
        "id": "JrafUHY1z8Lf",
        "outputId": "106d37f6-93b8-426a-ac73-85fa5aea48ee"
      },
      "source": [
        "x = float(input('Nhap x :'))\r\n",
        "y = float(input('Nhap y :'))\r\n",
        "ss =''\r\n",
        "if x>=y:\r\n",
        "  ss = 'dung'\r\n",
        "else:\r\n",
        "  ss = 'sai'\r\n",
        "if x<=y:\r\n",
        "  ss2 = 'dung'\r\n",
        "else:\r\n",
        "  ss2 = 'sai'\r\n",
        "if x>y:\r\n",
        "  ss3 = 'dung'\r\n",
        "else:\r\n",
        "  ss3 = 'sai'\r\n",
        "if x<y:\r\n",
        "  ss4 = 'dung'\r\n",
        "else:\r\n",
        "  ss4 = 'sai'\r\n",
        "if x!=y:\r\n",
        "  ss5 = 'dung'\r\n",
        "else:\r\n",
        "  ss5 = 'sai'\r\n",
        "\r\n",
        "print('1.',x,'>=',y,ss)\r\n",
        "print('2.',x,'<=',y,ss2)\r\n",
        "print('3.',x,'>',y,ss3)\r\n",
        "print('4.',x,'<',y,ss4)\r\n",
        "print('5.',x,'!=',y,ss5)"
      ],
      "execution_count": 8,
      "outputs": [
        {
          "output_type": "stream",
          "text": [
            "Nhap x :6\n",
            "Nhap y :9\n",
            "1. 6.0 >= 9.0 sai\n",
            "2. 6.0 <= 9.0 dung\n",
            "3. 6.0 > 9.0 sai\n",
            "4. 6.0 < 9.0 dung\n",
            "5. 6.0 != 9.0 dung\n"
          ],
          "name": "stdout"
        }
      ]
    },
    {
      "cell_type": "markdown",
      "metadata": {
        "id": "SPto4hLS0c0y"
      },
      "source": [
        "Bài 5: Nhập 1 chuỗi ký tự từ bàn phím:\r\n",
        "1. Chuyển thành chuỗi in hoa\r\n",
        "2. Chuyển thành chuỗi in thường<br>\r\n",
        "Kết quả xuất ra màn hình"
      ]
    },
    {
      "cell_type": "code",
      "metadata": {
        "colab": {
          "base_uri": "https://localhost:8080/"
        },
        "id": "1N9hVq7g0mkB",
        "outputId": "b0c20ba0-5a44-4f84-f722-012db45bd146"
      },
      "source": [
        "str = input('Nhap Chuoi :')\r\n",
        "print('1.CHUYEN THANH CHUOI IN HOA :')\r\n",
        "print (str.upper())\r\n",
        "print('2.chuyen thanh chuoi in thuong :')\r\n",
        "print (str.lower())"
      ],
      "execution_count": 10,
      "outputs": [
        {
          "output_type": "stream",
          "text": [
            "Nhap Chuoi :Hello Colab and Github\n",
            "1.CHUYEN THANH CHUOI IN HOA :\n",
            "HELLO COLAB AND GITHUB\n",
            "2.chuyen thanh chuoi in thuong :\n",
            "hello colab and github\n"
          ],
          "name": "stdout"
        }
      ]
    },
    {
      "cell_type": "markdown",
      "metadata": {
        "id": "Ar5wOk691IcF"
      },
      "source": [
        "Bài 6: Xuất ra màn hình 1 chuỗi ký từ nằm trên nhiều hàng (có thể là 1 bài thơ tùy ý bạn lựa chọn)"
      ]
    },
    {
      "cell_type": "code",
      "metadata": {
        "colab": {
          "base_uri": "https://localhost:8080/"
        },
        "id": "5sQwMguA1OE7",
        "outputId": "14a77066-6983-480a-bb89-a6979053a405"
      },
      "source": [
        "print('Nam quốc sơn hà Nam đế cư\\nTuyệt nhiên định phận tại thiên thư\\nNhư hà nghịch lỗ lai xâm phậm\\nNhữ đẳng hành khang thủ bại hư.')"
      ],
      "execution_count": 11,
      "outputs": [
        {
          "output_type": "stream",
          "text": [
            "Nam quốc sơn hà Nam đế cư\n",
            "Tuyệt nhiên định phận tại thiên thư\n",
            "Như hà nghịch lỗ lai xâm phậm\n",
            "Nhữ đẳng hành khang thủ bại hư\n"
          ],
          "name": "stdout"
        }
      ]
    }
  ]
}