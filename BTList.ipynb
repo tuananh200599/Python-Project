{
  "nbformat": 4,
  "nbformat_minor": 0,
  "metadata": {
    "colab": {
      "name": "BTList.ipynb",
      "provenance": [],
      "authorship_tag": "ABX9TyMnCGcsO8cI/NzEFzai7eok",
      "include_colab_link": true
    },
    "kernelspec": {
      "name": "python3",
      "display_name": "Python 3"
    }
  },
  "cells": [
    {
      "cell_type": "markdown",
      "metadata": {
        "id": "view-in-github",
        "colab_type": "text"
      },
      "source": [
        "<a href=\"https://colab.research.google.com/github/tuananh200599/Python-Project/blob/main/BTList.ipynb\" target=\"_parent\"><img src=\"https://colab.research.google.com/assets/colab-badge.svg\" alt=\"Open In Colab\"/></a>"
      ]
    },
    {
      "cell_type": "markdown",
      "metadata": {
        "id": "5pLDMfo2wJj7"
      },
      "source": [
        "BT List <br>\r\n",
        "1) Tạo một biến x kiểu List rỗng <br>\r\n",
        "2) Thêm giá trị 18 vào x <br>\r\n",
        "3) Thêm giá trị \"Huế\" vào x <br>\r\n",
        "4) Tạo 1 List  y = [12, 45, -1, -0.56, \"abc\"]<br>\r\n",
        "5) Thêm y vào x<br>\r\n",
        "6) Xuất giá trị của x ra màn hình<br>\r\n",
        "7) In ra màn hình giá trị của phần tử cuối cùng và phần tử đầu tiên của x<br>\r\n",
        "8) In ra màn hình giá trị của phần tử đầu tiên đến phần tử thứ 5 của x<br>\r\n",
        "9) In ra màn hình giá trị của phần từ thứ 3 đến cuối cùng của x<br>"
      ]
    },
    {
      "cell_type": "code",
      "metadata": {
        "colab": {
          "base_uri": "https://localhost:8080/"
        },
        "id": "pj5LyMPawFlt",
        "outputId": "25a941dd-cff7-4f66-b53c-f68bf2064a25"
      },
      "source": [
        "#1\r\n",
        "x = []\r\n",
        "#2\r\n",
        "x.append(18)\r\n",
        "#3\r\n",
        "x.append('Huế')\r\n",
        "#4\r\n",
        "y = [12, 45, -1, -0.56, 'abc']\r\n",
        "#5\r\n",
        "x.extend(y)\r\n",
        "#6\r\n",
        "print(x)\r\n",
        "#7\r\n",
        "print('[',x[-1],',',x[0],']')\r\n",
        "#8\r\n",
        "print(x[0:5])\r\n",
        "#9\r\n",
        "print(x[2:])\r\n"
      ],
      "execution_count": 1,
      "outputs": [
        {
          "output_type": "stream",
          "text": [
            "[18, 'Huế', 12, 45, -1, -0.56, 'abc']\n",
            "[ abc , 18 ]\n",
            "[18, 'Huế', 12, 45, -1]\n",
            "[12, 45, -1, -0.56, 'abc']\n"
          ],
          "name": "stdout"
        }
      ]
    }
  ]
}